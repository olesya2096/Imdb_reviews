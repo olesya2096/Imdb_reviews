{
 "cells": [
  {
   "cell_type": "code",
   "source": [
    "import torch\n",
    "import torch.nn as nn\n",
    "from torch.utils.data import Dataset, DataLoader\n",
    "from torch.utils.data import TensorDataset, random_split\n",
    "from torch.utils.data import DataLoader, RandomSampler, SequentialSampler\n",
    "from bs4 import BeautifulSoup\n",
    "import re\n",
    "\n",
    "import nltk\n",
    "nltk.download('stopwords')\n",
    "from gensim.models import Word2Vec\n",
    "from nltk.stem import WordNetLemmatizer\n",
    "from nltk.corpus import stopwords\n",
    "from nltk.tokenize import WordPunctTokenizer\n",
    "from copy import deepcopy\n",
    "import pandas as pd\n",
    "\n",
    "import numpy as np\n",
    "import pandas as pd\n",
    "import matplotlib.pyplot as plt\n",
    "%matplotlib inline\n",
    "\n",
    "from tqdm.auto import tqdm\n",
    "from nltk.tokenize import word_tokenize\n",
    "from sklearn.model_selection import train_test_split\n",
    "import os\n",
    "from pathlib import Path\n",
    "\n",
    "from collections import Counter\n",
    "from typing import List\n",
    "import string\n",
    "\n",
    "import seaborn as sns\n",
    "sns.set(palette='summer')"
   ],
   "metadata": {
    "colab": {
     "base_uri": "https://localhost:8080/"
    },
    "id": "v5CVE4c6huYj",
    "outputId": "e51c7a0c-e936-4624-958b-3ee87b5348e9",
    "pycharm": {
     "is_executing": true
    }
   },
   "execution_count": null,
   "outputs": []
  },
  {
   "cell_type": "code",
   "source": [
    "nltk.download('punkt')"
   ],
   "metadata": {
    "colab": {
     "base_uri": "https://localhost:8080/"
    },
    "id": "KEP2KX_GmHsr",
    "outputId": "103f294f-3edd-480e-fbdf-4bd0bca90c30"
   },
   "execution_count": 3,
   "outputs": [
    {
     "output_type": "stream",
     "name": "stderr",
     "text": [
      "[nltk_data] Downloading package punkt to /root/nltk_data...\n",
      "[nltk_data]   Package punkt is already up-to-date!\n"
     ]
    },
    {
     "output_type": "execute_result",
     "data": {
      "text/plain": [
       "True"
      ]
     },
     "metadata": {},
     "execution_count": 3
    }
   ]
  },
  {
   "cell_type": "code",
   "source": [
    "device = 'cuda' if torch.cuda.is_available() else 'cpu'\n",
    "device"
   ],
   "metadata": {
    "colab": {
     "base_uri": "https://localhost:8080/",
     "height": 37
    },
    "id": "gU25p_Koh4JP",
    "outputId": "66984c7f-47af-4e49-ca8d-22cbfa5b0fb5"
   },
   "execution_count": 4,
   "outputs": [
    {
     "output_type": "execute_result",
     "data": {
      "text/plain": [
       "'cuda'"
      ],
      "application/vnd.google.colaboratory.intrinsic+json": {
       "type": "string"
      }
     },
     "metadata": {},
     "execution_count": 4
    }
   ]
  },
  {
   "cell_type": "code",
   "source": [
    "!unzip aclImdb2.zip"
   ],
   "metadata": {
    "colab": {
     "base_uri": "https://localhost:8080/"
    },
    "id": "VXdhkad6h-v8",
    "outputId": "ddfd46ec-0d80-4b35-f435-d82d6a2a830b"
   },
   "execution_count": 5,
   "outputs": [
    {
     "output_type": "stream",
     "name": "stdout",
     "text": [
      "Archive:  aclImdb2.zip\n",
      "replace __MACOSX/._aclImdb — копия 2? [y]es, [n]o, [A]ll, [N]one, [r]ename: "
     ]
    }
   ]
  },
  {
   "cell_type": "code",
   "source": [
    "data_dir = Path('/content/aclImdb — копия 2')"
   ],
   "metadata": {
    "id": "bFKWxv0OiCO2"
   },
   "execution_count": 6,
   "outputs": []
  },
  {
   "cell_type": "code",
   "source": [
    "def read_imdb(data_dir, is_train):\n",
    "    data, labels = [], []\n",
    "    for label in ('pos', 'neg'):\n",
    "        folder_name = os.path.join(data_dir, 'train' if is_train else 'test', label)\n",
    "        for file in os.listdir(folder_name):\n",
    "            with open(os.path.join(folder_name, file), 'rb') as f:\n",
    "                name = os.path.basename(file)\n",
    "                new_label = name[-6:-4]\n",
    "                review = f.read().decode('utf-8').replace('\\n', '')\n",
    "                data.append(review)\n",
    "                if new_label.isnumeric():\n",
    "                    labels.append(int(new_label))\n",
    "                else:\n",
    "                    labels.append(int(new_label[-1]))\n",
    "    return data, labels\n",
    "\n",
    "train_data = read_imdb(data_dir, is_train=True)\n",
    "print('trainings:', len(train_data[0]))\n",
    "for x, y in zip(train_data[0][:3], train_data[1][:3]):\n",
    "    print('label:', f'{y},', 'text:', x[:])"
   ],
   "metadata": {
    "colab": {
     "base_uri": "https://localhost:8080/"
    },
    "id": "GBD6YIW6iJ5T",
    "outputId": "e2880c6f-587e-4fc2-cd9e-e955296008e8"
   },
   "execution_count": 7,
   "outputs": [
    {
     "output_type": "stream",
     "name": "stdout",
     "text": [
      "trainings: 25000\n",
      "label: 7, text: This review owes its existence entirely to a review. We take a weekly TV magazine to see what is coming up, and duly decide what we will watch. Obligingly, there are brief reviews of most of the films scheduled to be shown on the five major terrestrial channels. In addition to the prose, each film is allocated a 1-5 star rating. 5 means Don't Miss (superior to 4 for Excellent!), down to 1 standing for Poor. We have learned from vast experience that, with few exceptions, stars are awarded for gross taste, foul language, offensive content, promiscuity, horror, blood & guts, and especially killing off the hero/heroine just when everyone was about to live happily ever after. (If that isn't done, the movie is denigrated as being 'predictable' - the worst insult imaginable!)<br /><br />Brave New Girl was given only 1 star, thereby suggesting it was a candidate worthy of our time and attention. This was confirmed by the reviewer's description of the movie as being a \"truly awful tale\", and, \"Stupid, just stupid\". We watched it, and my wife and I were glad we did so. The TV magazine reviewer further stated that the movie was \"not a reworking of War and Peace\", with which we have to agree. Reading through the IMDb reviews for this title a day or two later, the urge to pick up my pen (so to speak) to add my halfpennyworth (pronounced harf'pen'uth (emphasis on the first syllable) for the uninitiated) became overwhelming.<br /><br />Why did we take to this movie? Well, it's just a matter of taste. We like attractive characters, believable relationships between them, interesting situations, courtesy and respect, good triumphing over evil, and so on. We liked the integrity and personalities of Holly (Lindsey Haun), her Mum (Virginia Madsen), Ditz (Barbara Mamabolo), Grant (Nick Roth), Zoe (Joanne Boland) and the two male professors involved in the story. So what if the storyline includes a 'wicked witch of the west' in the form of Angela (Barbara Mamabolo), provided that she plays the part with some conviction. We appreciated the friendship depicted between the two room-mates, with one having a financially challenged upbringing by a loving single Mum, and the other having every material advantage but receiving little parental time and affection. Is it any wonder that Ditz felt the way she did about Holly's Mum? Is it surprising that Grant should take an immediate interest in Holly, considering the manner of their initial meeting, Holly's dazzling smiles and her lively self-possession? I think these issues and the events are believable enough, but it is necessary to pretend that the scholarship and other circumstances are realistic in order for the tale to have a setting.<br /><br />My wife and I are greatly blessed by not having any significant musical education. This enables us to enjoy the sounds produced by instruments and voices without having our critical faculties intruding unduly on our listening, and thus spoiling the experience. We enjoyed both the classical pieces and the pop, which came over well on the TV, and we weren't struck by any lack of talent. Also, it mattered not that Holly's classical vocals were dubbed by someone else.<br /><br />We enjoyed the movie enough to look for a DVD. The average delivered price we have paid per disk for the movies in our collection currently stands at £4.9484 (rounded to four decimal places). Brave New Girl was available from a trusted supplier on the Amazon Marketplace for £1.3516 (rounded to four decimal places) above this figure. Such a purchase would increase the average. Why I should resent this is a mystery to me, but it is a testimony to our enjoyment of this film that we placed an order anyway. I have awarded this film 7 IMDb stars out of ten, having docked one for overenthusiastic reception of the performances by the audiences, one for Britney advertising and one for something else I can't remember right now. (In case it hasn't tumbled, this review is an anthem in celebration of the use of brackets!)\n",
      "label: 8, text: I dont know why people think this is such a bad movie. Its got a pretty good plot, some good action, and the change of location for Harry does not hurt either. Sure some of its offensive and gratuitous but this is not the only movie like that. Eastwood is in good form as Dirty Harry, and I liked Pat Hingle in this movie as the small town cop. If you liked DIRTY HARRY, then you should see this one, its a lot better than THE DEAD POOL. 4/5\n",
      "label: 9, text: The Bourne Ultimatum - Jason Bourne (Matt Damon in his best role ever), the newest spy kid on the block, brings his quest for his identity to a close as he also seeks to end the CIA's latest program \"Blackbriar\" to make super assassins like himself.<br /><br />I was so psyched for this one that I watched it's predecessors yesterday and today. Identity was as brilliant as I recall and Supremacy remains the weak (but still enjoyable) link in the chain for the weakest plot and, aside from a car chase which this film's chase easily tops, slight lacking in action and suspense.<br /><br />Hoo boy, does Ultimatum have suspense! Even when you know Bourne will escape the authorities (and boy do these films spotlight the police as inept), it's still brilliant watching him do it. It's mind-boggling to think that two guys with handguns and mopeds can create 10x more suspense than anything those $150 million giant robots did in Transformers.<br /><br />Chalk it up to Paul Greengrass, who has this idiosyncratic style of shooting stedicam a la documentary, even though he's filming characters that are far from ordinary, in places like CIA headquarters where no one within 10 miles would be allowed with a camcorder. He seemed to listen to my various complaints with Supremacy, as the action in Ultimatum is nothing less than awe-inspiring, with various implements used as weapons being a candlestick, a hardcover book (I'll never look at those the same way again) and an electric fan (Don't ask). The music also helped generate much suspense, and there was hardly ever a moment to not nail-bite over.<br /><br />The acting is good, and the evolution of Julia Stiles' character \"Nicky\" put her situation into a new highly sympathetic light. Damon plays his signature role with reserve but competency (which sounds minor but that it genuinely looks like Matt Damon could evade the CIA and Interpol is something), but noticeable moments of poignancy as he still struggles to find his humanity. This longing of his for a real life could get boring, and almost did in Supremacy, but just works better in Ultimatum (better script). <br /><br />I am reminded of a scene in \"Goldeneye\" (the only good Pierce Brosnan Bond film) in which Sean Bean's character asks James if the martinis ever silence the screams of all the men he's killed. Bourne regrets all the people he killed, and he considers (or at least made me consider) the meaning of action without purpose, life without meaning, and how the government has transformed men into resources. Albeit, resources that know Krav Maga and can make weapons out of anything.<br /><br />Sidenote: it's always bothered me that, despite being a superspy and hunted by the CIA, Interpol, and the police nearly ANYWHERE he goes, that Bourne never thought to make even the smallest attempts to disguise his features or forge some new passports. Sunglasses maybe? <br /><br />If you have a pulse and love action movies, than Bourne Ultimatum is for you. Hell, it's probably the best action film to come out this year. Of course, you'd be a fool to see it without watching the others first. It kind of drags a touch near the end, but I almost feel tempted to overlook that. This is the first \"3\" movie this summer to at least match, if not exceed, the original and that is saying something.<br /><br />A-\n"
     ]
    }
   ]
  },
  {
   "cell_type": "code",
   "source": [
    "test_data = read_imdb(data_dir, is_train=False)\n",
    "print('len:', len(test_data[0]))\n",
    "for x, y in zip(test_data[0][:3], test_data[1][:3]):\n",
    "    print('label:', f'{y},', 'text:', x[:])"
   ],
   "metadata": {
    "colab": {
     "base_uri": "https://localhost:8080/"
    },
    "id": "qlcSRZ9KiM7b",
    "outputId": "c86a60a8-8cf9-4c29-bd02-16edb679106c"
   },
   "execution_count": 8,
   "outputs": [
    {
     "output_type": "stream",
     "name": "stdout",
     "text": [
      "len: 25000\n",
      "label: 10, text: This amusing, sometimes poignant look at the Hollywood detective genre of the 1940's and 1950's stars Robert Sacci as an unnamed former cop who retires, uses his life savings to pay for plastic surgery to transform his image into that of his idol, Humphrey Bogart, then sets up shop as a private eye under the name \"Sam Marlowe\". Robert Sacchi, incidentally, is one of the rare few Bogart impersonators who got the lisp exactly right; more to the point, the body and facial language are there. For awhile, \"Sam\"'s only client is his landlady, who wants him to find her undersized boyfriend, and his only conversational foil is his secretary, simply called \"Dutchess\" (Misty Rowe), who in his own words, \"looked like Marilyn Monroe and made about as much sense as Gracie Allen\", and has a passion for banana splits. Then he encounters Elsa (Olivia Hussey), the plain, sweet, virginal daughter of a retired props-master who has been murdered for no discernible reason. In the process of investigating the murder, Sam shortly runs across: the Gene Tierney lookalike daughter (Michelle Phillips) of Anastas, an avaricious, obscenely wealthy Greek shipping tycoon (Victor Buono, turning in a creditable Sidney Greenstreet), his hapless, long-suffering second wife (Yvonne deCarlo, who manages to play a variety of put-upon emotions without saying a word), his two smarmy henchmen (Herbert Lom, channelling Peter Lorre, and Jay Robinson, doing a reasonably accurate Lionel Atwill), and Anastas' vicious, amoral Middle-Eastern potentate (Franco Nero) who comes complete with a glamorus and bafflingly loyal mistress (Sybil Danning), all of whom would give anything to acquire the \"Eyes of Alexander\", two huge, perfectly matched star sapphires. When Elsa is murdered, Marlowe's interest in solving the case becomes personal, and he sets out through a labyrinth of Los Angeles landmarks, including the Hollywood Bowl, the scatological and esoteric attractions of Hollywood Boulevard, and Santa Catalina Island in pursuit of the rocks, determined to get at them before either of the two wealthy competitors. Throw in cameos by Mike Mazurki and assorted others, the traditional dumb-but-sympathetic ally on the police force, and a plethora of nicely drawn character turns that provide dimension to practically all players, and despite an unfortunate title song, you have, to my mind, a thoroughly enjoyable movie experience.\n",
      "label: 9, text: I was pleasantly surprised by how good the movie was. Whether you're a gore fan or a suspense fan; you'll love this. I used to dislike horror movies, considered them stupid. But, anyway, it happens I make exceptions. I find something really extraordinary in this film. Rarely have I ever seen a film that has scared the crap out of me but I tell you the truth this film gave me shivers down my neck. Unlike most horror films this one cares about the development of the characters. I highly recommend this film and I'm glad that Asylum are finally bringing out good horror movies these days <br /><br />I recommend! Enjoy!\n",
      "label: 7, text: WrestleMania 6 took place April 1, 1990 at the SkyDome in Toronto, Ontario, Canada.<br /><br />Match 1: Rick Martel vs. Koko B. Ware - For what it was, a very solid opening match. Koko was always fairly popular with the fans, and at this point Martel was still getting over as a heel talent. In the end Martel is able to snag the win in a pretty non memorable match.<br /><br />Match 2: The Colossal Connection (Andre The Giant & Haku) (c) (with Bobby 'The Brain' Heenan) vs Demolition (Ax & Smash) for the WWF Tag Team Championship - At this point Andre's health was really awful, so his performance was really nothing special. The crowd is 100% pro Demolition in this match. In the end Haku is pinned and we have New Tag Team Champions. After the match Andre lays out Haku and Heenan and turns face at what would turn out to be his last WrestleMania.<br /><br />Match 3: Earthquack vs Hercules - Very short match. Big dominant heels were really a popular thing at the time. R.I.P. to both men in the match. John Tenta (Earthquake) passed not that long ago and same with Hercules. In the end Earthquake pins Hercules for the win.<br /><br />Match 4: Mr. Perfect vs Brutus \"The Barber\" Beefcake - The first really good match of the night. R.I.P. to Curt Henning (Mr. Perfect). Really solid back and forth action from both of these talented guys. In the end Brutus gets the win thanks to a lot of his major fan support during the match.<br /><br />Match 5: 'Rowdy' Roddy Piper vs Bad News Brown - Not a technical classic, but a pretty decent brawl for WrestleMania. Piper comes out half black/half white in what is considerably a classic moment. In the end both guys fight to a double count out with no clear cut winner.<br /><br />Match 6: The Hart Foundation vs The Bolsheviks - Complete squash match. The Hart Foundation gets an easy win. Surprising that WWE used to have a tag team division.<br /><br />Match 7: The Barbarian vs Tito Santana - Bobby Heenan's \"Heenan Family\" fairs better in this match as The Barbarian takes the win against Tito Santana. Not memorable, but good to go back and watch years later.<br /><br />Match 8: Randy Savage & Sensational Sherri vs Dusty Rhodes & Sapphire - Big inter-gender tag team match. Dusty Rhodes wears the uncomfortable polka dot outfit out to the ring. In the end Rhodes and Sapphire get the win over \"The Macho King\" and Sensational Queen Sherri.<br /><br />Match 9: The Rockers vs The Orient Express - Surprisingly another tag team match. Tag wrestling used to be so much better during this time period. A young Shawn Michaels and his partner Marty Jannetty take a loss by count out in this match to the Orient Express.<br /><br />Match 10: Dino Bravo vs Jim Duggan - Duggan gets a decent reaction, despite his American Patriot gimmick. Bravo, a member of Jimmy Hart's group, comes to the ring with Hart and Earthquake. Although he has support, Duggan takes the win.<br /><br />Match 11: \"The Million Dollar Man\" Ted DiBiase (c) vs Jake 'The Snake' Roberts for the Million Dollar Championship - The first major main event of the night. Roberts was extremely over with the fans. Match was considerably good for what it was. DiBiase is able to pick up a count out win on Roberts. But Roberts ends up possessing DiBiase's money and giving it away.<br /><br />Match 12: The Big Boss Man vs Akeem (with Slick) - One Man Gang's sad attempt at being an African Dream named Akeem. A really short match that needed some more time to develop itself as a match. Boss Man wins with a slam.<br /><br />Match 13: Jimmy \"Superfly\" Snuka vs Rick Rude - Heenan comes to the ring with Rude for this match. Snuka, never really got it good at WrestleMania. He always seemed to be on the losing end. After a short 5 minutes, Rude gets the win over Snuka.<br /><br />Match 14: WWF Champion Hulk Hogan vs Intercontinental Champion The Ultimate Warrior - Dubbed as \"The Ultimate Challenge\" we get some interesting promos from both men earlier in the night. The match was actually very good, given that people tend to think Hogan can't wrestle. A lot of near falls that really got the crowd and people that watch at home into it. In the end Warrior gets the win on Hogan and wins both titles. A stunned crowd looks on as Hulk Hogan suffers his first loss at WrestleMania.\n"
     ]
    }
   ]
  },
  {
   "cell_type": "code",
   "source": [
    "def read_unsup(data_dir):\n",
    "    data = []\n",
    "    folder_name = os.path.join(data_dir, 'train', 'unsup')\n",
    "    for file in os.listdir(folder_name):\n",
    "        with open(os.path.join(folder_name, file), 'rb') as f:\n",
    "            review = f.read().decode('utf-8').replace('\\n', '')\n",
    "            data.append(review)\n",
    "    return data"
   ],
   "metadata": {
    "id": "l0wL4Uopifzb"
   },
   "execution_count": 9,
   "outputs": []
  },
  {
   "cell_type": "code",
   "source": [
    "unsup_data = read_unsup(data_dir)\n",
    "print('length:', len(unsup_data))\n",
    "for x in unsup_data[:3]:\n",
    "    print('text:', x[:])"
   ],
   "metadata": {
    "colab": {
     "base_uri": "https://localhost:8080/"
    },
    "id": "jYWuGtCviPoD",
    "outputId": "a53a5bc6-dec9-47a3-a303-2978c6003657"
   },
   "execution_count": 10,
   "outputs": [
    {
     "output_type": "stream",
     "name": "stdout",
     "text": [
      "length: 50000\n",
      "text: Maybe other people appreciate this, but if you are a fan of Zucker Abram Zucker type films (airplane etc.) or Ben Stiller movies, you won't find much to laugh about in this film. I didn't find anything save for (spoiler) the finger cutting off scene at the end, which is a twist on the way movies usually do things. Even that was not laugh out loud funny, more funny in the sense of \"We are in on QT's joke about the film industry\". Big Deal.<br /><br />This movie is worth it's 5.9 rating, i.e. it is below average. Don't bother. It must have gotten that rating for the elements of drama that it had, it seems that great comedies such as Austin Powers series etc. can't push more than mid 7s without having an element of \"social significance\" or drama as Dr Strangelove might have.\n",
      "text: this isn't crouching tiger, the medevil matrix, or anything else it is being touted as. i guess not being a idiot frat boy i dont have the appreciation for this film that many others do. if you have seen good movies you will immediately recognize that this is not one of them. the story is weak, the movie relies on the occaisional tricky camera shot or gimic (which is strange and out of place because the film is otherwise shot in a very straightforward style) the \"talent\" cannot act and its not because they are speaking a different language, and, the movie is about 50 minutes too long and therefore is boring as hell.\n",
      "text: I remember watching Cannonball run when i was just a child, the opening sequence with the black Lamborghini simply blew me away, and i have loved that car every since. That sequence simply sets the tone for the rest of the film.<br /><br />OK so it's dated now, and probably isn't very appealing to todays generation, but this is the original road movie epic and is crammed full of cheesy gags, road rage, fights, great characters, sexy women, sexy cars, and even the odd super hero (Dun Dun Darr - it's Captain Chaos) Oh i forgot to mention the all star cast - Burt Reynolds, Dom Deluise, Farrah Fawcett, Roger Moore, Dean Martin, Sammy Davis Jnr, Jackie Chan; Oh! Sod it there's too many to name, just watch it and see for yourself.<br /><br />Terrific Fun 7/10\n"
     ]
    }
   ]
  },
  {
   "cell_type": "code",
   "execution_count": 11,
   "metadata": {
    "id": "5qZGksbBg1ru"
   },
   "outputs": [],
   "source": [
    "def text_cleaning(data):\n",
    "    clean_text = []\n",
    "    for text in data:\n",
    "        text = BeautifulSoup(text, \"lxml\").get_text()   #remove html tags\n",
    "        text = re.sub(\"[^a-zA-Z]\", \" \", text)\n",
    "        text = text.lower().split()\n",
    "        stop_word_list = set(stopwords.words(\"english\"))\n",
    "        text = [word for word in text if not word in stop_word_list]\n",
    "        clean_text.append((\" \".join(text)))\n",
    "    return clean_text"
   ]
  },
  {
   "cell_type": "code",
   "execution_count": 12,
   "metadata": {
    "colab": {
     "base_uri": "https://localhost:8080/"
    },
    "id": "KiqF4N0zg1ru",
    "outputId": "76725a7e-32a1-4dff-d1f8-127f1b005131"
   },
   "outputs": [
    {
     "output_type": "stream",
     "name": "stderr",
     "text": [
      "<ipython-input-11-d686aa8f7b5f>:4: MarkupResemblesLocatorWarning: The input looks more like a filename than markup. You may want to open this file and pass the filehandle into Beautiful Soup.\n",
      "  text = BeautifulSoup(text, \"lxml\").get_text()   #remove html tags\n"
     ]
    }
   ],
   "source": [
    "clean_text_train = text_cleaning(train_data[0])\n",
    "train_label = train_data[1]"
   ]
  },
  {
   "cell_type": "code",
   "source": [
    "clean_text_unsup = text_cleaning(unsup_data)\n",
    "nolabel = [-1 for _ in range(len(clean_text_unsup))]"
   ],
   "metadata": {
    "id": "m8jJ_L6Z2Gt6",
    "colab": {
     "base_uri": "https://localhost:8080/"
    },
    "outputId": "e9b633ad-de9f-4857-a961-acec04ccd382"
   },
   "execution_count": 13,
   "outputs": [
    {
     "output_type": "stream",
     "name": "stderr",
     "text": [
      "<ipython-input-11-d686aa8f7b5f>:4: MarkupResemblesLocatorWarning: The input looks more like a filename than markup. You may want to open this file and pass the filehandle into Beautiful Soup.\n",
      "  text = BeautifulSoup(text, \"lxml\").get_text()   #remove html tags\n"
     ]
    }
   ]
  },
  {
   "cell_type": "code",
   "source": [
    "clean_text_test = text_cleaning(test_data[0])\n",
    "test_label = test_data[1]"
   ],
   "metadata": {
    "colab": {
     "base_uri": "https://localhost:8080/"
    },
    "id": "AWaih8vMxb2A",
    "outputId": "4eea5672-f19e-4e98-8bcd-04a07c03fb51"
   },
   "execution_count": 14,
   "outputs": [
    {
     "output_type": "stream",
     "name": "stderr",
     "text": [
      "<ipython-input-11-d686aa8f7b5f>:4: MarkupResemblesLocatorWarning: The input looks more like a filename than markup. You may want to open this file and pass the filehandle into Beautiful Soup.\n",
      "  text = BeautifulSoup(text, \"lxml\").get_text()   #remove html tags\n"
     ]
    }
   ]
  },
  {
   "cell_type": "code",
   "source": [
    "clean_text_train[0]"
   ],
   "metadata": {
    "colab": {
     "base_uri": "https://localhost:8080/",
     "height": 157
    },
    "id": "brXssYXimSYA",
    "outputId": "7b630e3c-180e-4eb9-a3ff-bb5a4ab59846"
   },
   "execution_count": 15,
   "outputs": [
    {
     "output_type": "execute_result",
     "data": {
      "text/plain": [
       "'review owes existence entirely review take weekly tv magazine see coming duly decide watch obligingly brief reviews films scheduled shown five major terrestrial channels addition prose film allocated star rating means miss superior excellent standing poor learned vast experience exceptions stars awarded gross taste foul language offensive content promiscuity horror blood guts especially killing hero heroine everyone live happily ever done movie denigrated predictable worst insult imaginable brave new girl given star thereby suggesting candidate worthy time attention confirmed reviewer description movie truly awful tale stupid stupid watched wife glad tv magazine reviewer stated movie reworking war peace agree reading imdb reviews title day two later urge pick pen speak add halfpennyworth pronounced harf pen uth emphasis first syllable uninitiated became overwhelming take movie well matter taste like attractive characters believable relationships interesting situations courtesy respect good triumphing evil liked integrity personalities holly lindsey haun mum virginia madsen ditz barbara mamabolo grant nick roth zoe joanne boland two male professors involved story storyline includes wicked witch west form angela barbara mamabolo provided plays part conviction appreciated friendship depicted two room mates one financially challenged upbringing loving single mum every material advantage receiving little parental time affection wonder ditz felt way holly mum surprising grant take immediate interest holly considering manner initial meeting holly dazzling smiles lively self possession think issues events believable enough necessary pretend scholarship circumstances realistic order tale setting wife greatly blessed significant musical education enables us enjoy sounds produced instruments voices without critical faculties intruding unduly listening thus spoiling experience enjoyed classical pieces pop came well tv struck lack talent also mattered holly classical vocals dubbed someone else enjoyed movie enough look dvd average delivered price paid per disk movies collection currently stands rounded four decimal places brave new girl available trusted supplier amazon marketplace rounded four decimal places figure purchase would increase average resent mystery testimony enjoyment film placed order anyway awarded film imdb stars ten docked one overenthusiastic reception performances audiences one britney advertising one something else remember right case tumbled review anthem celebration use brackets'"
      ],
      "application/vnd.google.colaboratory.intrinsic+json": {
       "type": "string"
      }
     },
     "metadata": {},
     "execution_count": 15
    }
   ]
  },
  {
   "cell_type": "code",
   "source": [
    "from sklearn.feature_extraction.text import TfidfVectorizer\n",
    "vectorizer = TfidfVectorizer(analyzer = \"word\", tokenizer = None, preprocessor = None, stop_words = None, max_features = 5000)\n",
    "train_data_features = (vectorizer.fit_transform(clean_text_train)).toarray()\n",
    "\n",
    "test_data_features = (vectorizer.transform(clean_text_test)).toarray()\n",
    "\n",
    "print(train_data_features.shape)\n",
    "train_data_features"
   ],
   "metadata": {
    "colab": {
     "base_uri": "https://localhost:8080/"
    },
    "id": "3U0WTJxIHvK9",
    "outputId": "a2f4bddd-dda1-415a-a065-dd37c7296aa2"
   },
   "execution_count": 16,
   "outputs": [
    {
     "output_type": "stream",
     "name": "stdout",
     "text": [
      "(25000, 5000)\n"
     ]
    },
    {
     "output_type": "execute_result",
     "data": {
      "text/plain": [
       "array([[0., 0., 0., ..., 0., 0., 0.],\n",
       "       [0., 0., 0., ..., 0., 0., 0.],\n",
       "       [0., 0., 0., ..., 0., 0., 0.],\n",
       "       ...,\n",
       "       [0., 0., 0., ..., 0., 0., 0.],\n",
       "       [0., 0., 0., ..., 0., 0., 0.],\n",
       "       [0., 0., 0., ..., 0., 0., 0.]])"
      ]
     },
     "metadata": {},
     "execution_count": 16
    }
   ]
  },
  {
   "cell_type": "code",
   "source": [
    "vectorizer_unsup = TfidfVectorizer(analyzer = \"word\", tokenizer = None, preprocessor = None, stop_words = None, max_features = 5000)\n",
    "unsup_data_features = (vectorizer_unsup.fit_transform(clean_text_unsup)).toarray()"
   ],
   "metadata": {
    "id": "uNnP9uvDzOZy"
   },
   "execution_count": 17,
   "outputs": []
  },
  {
   "cell_type": "code",
   "source": [
    "train_mixed = np.concatenate((train_data_features, unsup_data_features[:25000]))\n",
    "label_train_mixed = np.concatenate((train_label, nolabel[:25000]))"
   ],
   "metadata": {
    "id": "GMXX5pWLz7dm"
   },
   "execution_count": 18,
   "outputs": []
  },
  {
   "cell_type": "code",
   "source": [
    "!pip install catboost"
   ],
   "metadata": {
    "colab": {
     "base_uri": "https://localhost:8080/"
    },
    "id": "rvdnDvOaK-50",
    "outputId": "b0313436-5f67-4777-b545-710c85e4f7cd"
   },
   "execution_count": 19,
   "outputs": [
    {
     "output_type": "stream",
     "name": "stdout",
     "text": [
      "Requirement already satisfied: catboost in /usr/local/lib/python3.10/dist-packages (1.2)\n",
      "Requirement already satisfied: graphviz in /usr/local/lib/python3.10/dist-packages (from catboost) (0.20.1)\n",
      "Requirement already satisfied: matplotlib in /usr/local/lib/python3.10/dist-packages (from catboost) (3.7.1)\n",
      "Requirement already satisfied: numpy>=1.16.0 in /usr/local/lib/python3.10/dist-packages (from catboost) (1.22.4)\n",
      "Requirement already satisfied: pandas>=0.24 in /usr/local/lib/python3.10/dist-packages (from catboost) (1.5.3)\n",
      "Requirement already satisfied: scipy in /usr/local/lib/python3.10/dist-packages (from catboost) (1.10.1)\n",
      "Requirement already satisfied: plotly in /usr/local/lib/python3.10/dist-packages (from catboost) (5.13.1)\n",
      "Requirement already satisfied: six in /usr/local/lib/python3.10/dist-packages (from catboost) (1.16.0)\n",
      "Requirement already satisfied: python-dateutil>=2.8.1 in /usr/local/lib/python3.10/dist-packages (from pandas>=0.24->catboost) (2.8.2)\n",
      "Requirement already satisfied: pytz>=2020.1 in /usr/local/lib/python3.10/dist-packages (from pandas>=0.24->catboost) (2022.7.1)\n",
      "Requirement already satisfied: contourpy>=1.0.1 in /usr/local/lib/python3.10/dist-packages (from matplotlib->catboost) (1.1.0)\n",
      "Requirement already satisfied: cycler>=0.10 in /usr/local/lib/python3.10/dist-packages (from matplotlib->catboost) (0.11.0)\n",
      "Requirement already satisfied: fonttools>=4.22.0 in /usr/local/lib/python3.10/dist-packages (from matplotlib->catboost) (4.41.1)\n",
      "Requirement already satisfied: kiwisolver>=1.0.1 in /usr/local/lib/python3.10/dist-packages (from matplotlib->catboost) (1.4.4)\n",
      "Requirement already satisfied: packaging>=20.0 in /usr/local/lib/python3.10/dist-packages (from matplotlib->catboost) (23.1)\n",
      "Requirement already satisfied: pillow>=6.2.0 in /usr/local/lib/python3.10/dist-packages (from matplotlib->catboost) (9.4.0)\n",
      "Requirement already satisfied: pyparsing>=2.3.1 in /usr/local/lib/python3.10/dist-packages (from matplotlib->catboost) (3.1.0)\n",
      "Requirement already satisfied: tenacity>=6.2.0 in /usr/local/lib/python3.10/dist-packages (from plotly->catboost) (8.2.2)\n"
     ]
    }
   ]
  },
  {
   "cell_type": "code",
   "source": [
    "import catboost"
   ],
   "metadata": {
    "id": "E3dpF9pHOZgr"
   },
   "execution_count": 20,
   "outputs": []
  },
  {
   "cell_type": "code",
   "source": [
    "from sklearn.metrics import accuracy_score\n",
    "from sklearn.semi_supervised import LabelPropagation\n",
    "model = LabelPropagation()\n",
    "\n",
    "\n",
    "model.fit(train_mixed, label_train_mixed)\n",
    "tran_labels = model.transduction_"
   ],
   "metadata": {
    "id": "CW2T27ul0nIz"
   },
   "execution_count": null,
   "outputs": []
  },
  {
   "cell_type": "code",
   "source": [
    "boosting_model = catboost.CatBoostClassifier(iterations=1600, learning_rate=0.03, depth=2, l2_leaf_reg=1, loss_function='MultiClass')\n",
    "\n",
    "boosting_model.fit(train_mixed, tran_labels)\n",
    "\n",
    "preds = boosting_model.predict(clean_text_test)"
   ],
   "metadata": {
    "id": "FtaJIJ02IIjS"
   },
   "execution_count": null,
   "outputs": []
  },
  {
   "cell_type": "code",
   "source": [
    "score = accuracy_score(test_label, preds)\n",
    "print('Точность измерений: %.3f' % (score * 100))"
   ],
   "metadata": {
    "id": "A6oZqsLj1MWw"
   },
   "execution_count": null,
   "outputs": []
  },
  {
   "cell_type": "code",
   "source": [
    "test_auc = roc_auc_score(test_label, preds)\n",
    "print(f'test auc: {test_auc}')"
   ],
   "metadata": {
    "id": "XDguK7dM3-Bx"
   },
   "execution_count": null,
   "outputs": []
  },
  {
   "cell_type": "code",
   "source": [
    "from sklearn.metrics import confusion_matrix, classification_report\n",
    "print(classification_report(test_label, preds, zero_division=0))"
   ],
   "metadata": {
    "colab": {
     "base_uri": "https://localhost:8080/"
    },
    "id": "RrA-gZp6P9Mw",
    "outputId": "840b8258-ac79-44e2-c0b6-019adcdf20df"
   },
   "execution_count": null,
   "outputs": [
    {
     "output_type": "stream",
     "name": "stdout",
     "text": [
      "              precision    recall  f1-score   support\n",
      "\n",
      "           1       0.47      0.83      0.60      5022\n",
      "           2       0.25      0.00      0.01      2302\n",
      "           3       0.25      0.02      0.03      2541\n",
      "           4       0.32      0.26      0.29      2635\n",
      "           7       0.34      0.17      0.23      2307\n",
      "           8       0.27      0.16      0.20      2850\n",
      "           9       0.67      0.00      0.00      2344\n",
      "          10       0.39      0.86      0.54      4999\n",
      "\n",
      "    accuracy                           0.40     25000\n",
      "   macro avg       0.37      0.29      0.24     25000\n",
      "weighted avg       0.38      0.40      0.31     25000\n",
      "\n"
     ]
    }
   ]
  }
 ],
 "metadata": {
  "kernelspec": {
   "display_name": "Python 3",
   "name": "python3"
  },
  "language_info": {
   "codemirror_mode": {
    "name": "ipython",
    "version": 3
   },
   "file_extension": ".py",
   "mimetype": "text/x-python",
   "name": "python",
   "nbconvert_exporter": "python",
   "pygments_lexer": "ipython3",
   "version": "3.6.5"
  },
  "colab": {
   "provenance": [],
   "gpuType": "T4"
  },
  "accelerator": "GPU"
 },
 "nbformat": 4,
 "nbformat_minor": 0
}
